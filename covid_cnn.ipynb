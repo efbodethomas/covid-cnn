{
  "cells": [
    {
      "cell_type": "markdown",
      "metadata": {
        "id": "view-in-github",
        "colab_type": "text"
      },
      "source": [
        "<a href=\"https://colab.research.google.com/github/efbodethomas/covid-cnn/blob/main/covid_cnn.ipynb\" target=\"_parent\"><img src=\"https://colab.research.google.com/assets/colab-badge.svg\" alt=\"Open In Colab\"/></a>"
      ]
    },
    {
      "cell_type": "code",
      "execution_count": null,
      "metadata": {
        "id": "0PCsd00Eq4y1"
      },
      "outputs": [],
      "source": [
        "# !pip install split-folders\n",
        "# !pip install opencv-python\n",
        "# !pip install tensorflow\n",
        "# !unzip ''"
      ]
    },
    {
      "cell_type": "markdown",
      "metadata": {
        "id": "B_TjD7LYzQC4"
      },
      "source": [
        "### Importing Libraries"
      ]
    },
    {
      "cell_type": "code",
      "execution_count": null,
      "metadata": {
        "id": "xaGLZnrUr75h"
      },
      "outputs": [],
      "source": [
        "import pandas as pd\n",
        "import numpy as np\n",
        "import matplotlib.pyplot as plt\n",
        "import random\n",
        "from sklearn.model_selection import train_test_split\n",
        "from sklearn.metrics import confusion_matrix\n",
        "from sklearn.metrics import classification_report\n",
        "import glob\n",
        "import cv2\n",
        "import tensorflow as tf\n",
        "from tensorflow import keras\n",
        "from tensorflow.keras import layers\n",
        "from tensorflow.keras.models import Sequential\n",
        "from tensorflow.keras.layers import Activation, Dense, Conv2D, Flatten, RandomFlip, MaxPooling2D\n",
        "from tensorflow.keras.optimizers import Adam\n",
        "from tensorflow.keras.metrics import categorical_crossentropy\n",
        "\n",
        "%matplotlib inline"
      ]
    },
    {
      "cell_type": "markdown",
      "metadata": {
        "id": "gpYEdpHFBu6A"
      },
      "source": [
        "### Importing the files from folders"
      ]
    },
    {
      "cell_type": "code",
      "execution_count": null,
      "metadata": {
        "id": "8frpdc2nsFrf"
      },
      "outputs": [],
      "source": [
        "files_for_normal = glob.glob('/content/drive/MyDrive/Deep Learning Assessment/DMV_Assess_1_Covid-19_Dataset/Normal/*.*', \n",
        "                   recursive = True)\n",
        "\n",
        "files_for_covid = glob.glob('/content/drive/MyDrive/Deep Learning Assessment/DMV_Assess_1_Covid-19_Dataset/Covid-19/*.*', \n",
        "                   recursive = True)\n"
      ]
    },
    {
      "cell_type": "markdown",
      "metadata": {
        "id": "UZXRyhw60FAP"
      },
      "source": [
        "#### Moving the files into list, Normal and Covid images are appended in the list 'x', while their corresponding labels are appended in the list, 'y'. \n",
        "## Label '0' for Normal images, Label '1' for Covid images.\n",
        "\n"
      ]
    },
    {
      "cell_type": "code",
      "execution_count": null,
      "metadata": {
        "id": "3sRnS97ysvro"
      },
      "outputs": [],
      "source": [
        "x = []\n",
        "y = []\n",
        "\n",
        "for file in files_for_normal:\n",
        "    img = cv2.imread(file, 1)\n",
        "    img = cv2.resize(img, (224,224))\n",
        "    x.append(img)\n",
        "    y.append(0)\n",
        "\n",
        "for file in files_for_covid:\n",
        "    img = cv2.imread(file, 1)\n",
        "    img = cv2.resize(img, (224,224))\n",
        "    x.append(img)\n",
        "    y.append(1)"
      ]
    },
    {
      "cell_type": "code",
      "execution_count": null,
      "metadata": {
        "id": "XJPN_QkPBrgO"
      },
      "outputs": [],
      "source": []
    },
    {
      "cell_type": "markdown",
      "metadata": {
        "id": "sd3bvOuS1Vuw"
      },
      "source": [
        "### Normalising the data in the lists"
      ]
    },
    {
      "cell_type": "code",
      "execution_count": null,
      "metadata": {
        "id": "_WPAbQDNsyoh"
      },
      "outputs": [],
      "source": [
        "x = np.array(x) / 255\n",
        "y = np.array(y)"
      ]
    },
    {
      "cell_type": "code",
      "execution_count": null,
      "metadata": {
        "colab": {
          "base_uri": "https://localhost:8080/"
        },
        "id": "poAjAmmOtd7x",
        "outputId": "e3b9afdd-07bb-4d5c-d5c2-37fc6530b161"
      },
      "outputs": [
        {
          "name": "stdout",
          "output_type": "stream",
          "text": [
            "Shape of training images: (200, 224, 224, 3)\n"
          ]
        }
      ],
      "source": [
        "print('Shape of training images:' ,x.shape)"
      ]
    },
    {
      "cell_type": "markdown",
      "metadata": {
        "id": "W9irmoJk1fu1"
      },
      "source": [
        "### Splitting the dataset into Training and Testing Sets"
      ]
    },
    {
      "cell_type": "code",
      "execution_count": null,
      "metadata": {
        "id": "R9kvqO1ztg3e"
      },
      "outputs": [],
      "source": [
        "x_train, x_test, y_train, y_test = train_test_split(x, y, test_size = 0.2, random_state = 42)"
      ]
    },
    {
      "cell_type": "code",
      "execution_count": null,
      "metadata": {
        "colab": {
          "base_uri": "https://localhost:8080/"
        },
        "id": "KZWBVgWEtjL7",
        "outputId": "0ee6b199-ce9b-412c-fd38-5950e213cf6c"
      },
      "outputs": [
        {
          "data": {
            "text/plain": [
              "dtype('float64')"
            ]
          },
          "execution_count": 83,
          "metadata": {},
          "output_type": "execute_result"
        }
      ],
      "source": [
        "x_train.dtype"
      ]
    },
    {
      "cell_type": "markdown",
      "metadata": {
        "id": "5iqpMrNZ2DAK"
      },
      "source": [
        "## Visualising the Data"
      ]
    },
    {
      "cell_type": "code",
      "execution_count": null,
      "metadata": {
        "colab": {
          "base_uri": "https://localhost:8080/",
          "height": 299
        },
        "id": "1wg338QDtlP9",
        "outputId": "01877778-3aca-4b3c-ac98-bbb443b98383"
      },
      "outputs": [
        {
          "data": {
            "text/plain": [
              "<function matplotlib.pyplot.show>"
            ]
          },
          "execution_count": 84,
          "metadata": {},
          "output_type": "execute_result"
        },
        {
          "data": {
            "image/png": "[encoded data removed]",
            "text/plain": [
              "<Figure size 432x288 with 1 Axes>"
            ]
          },
          "metadata": {
            "needs_background": "light"
          },
          "output_type": "display_data"
        }
      ],
      "source": [
        "random_number = random.randint(1, len(x_train))\n",
        "plt.imshow(x_train[random_number])\n",
        "plt.title(y_train[random_number])\n",
        "plt.show"
      ]
    },
    {
      "cell_type": "markdown",
      "metadata": {
        "id": "LqeQK1ZS2J71"
      },
      "source": [
        "## Building the Model"
      ]
    },
    {
      "cell_type": "code",
      "execution_count": null,
      "metadata": {
        "id": "s0JI-3kWtnwI"
      },
      "outputs": [],
      "source": [
        "model = Sequential([\n",
        "    Conv2D(filters=16, input_shape=(224,224,3), activation='relu', kernel_size=(3,3)),\n",
        "    MaxPooling2D(),\n",
        "    Conv2D(filters=32, input_shape=(224,224,3), activation='relu', kernel_size=(3,3)),\n",
        "    MaxPooling2D(),\n",
        "    Conv2D(filters=32, input_shape=(224,224,3), activation='relu', kernel_size=(3,3)),\n",
        "    MaxPooling2D(),\n",
        "    Flatten(),\n",
        "    Dense(units=32, activation='relu'),\n",
        "    Dense(units=1, activation='sigmoid')\n",
        "])"
      ]
    },
    {
      "cell_type": "markdown",
      "metadata": {
        "id": "JLPotusc2Qo_"
      },
      "source": [
        "## Determining the optimiser and learning rate \n",
        "\n",
        "## Displaying the Summary"
      ]
    },
    {
      "cell_type": "code",
      "execution_count": null,
      "metadata": {
        "colab": {
          "base_uri": "https://localhost:8080/"
        },
        "id": "1kOkLmShtrTQ",
        "outputId": "783ba10f-5595-46f4-f3c8-8ec163e8da29"
      },
      "outputs": [
        {
          "name": "stdout",
          "output_type": "stream",
          "text": [
            "Model: \"sequential_10\"\n",
            "_________________________________________________________________\n",
            " Layer (type)                Output Shape              Param #   \n",
            "=================================================================\n",
            " conv2d_15 (Conv2D)          (None, 222, 222, 16)      448       \n",
            "                                                                 \n",
            " max_pooling2d_15 (MaxPoolin  (None, 111, 111, 16)     0         \n",
            " g2D)                                                            \n",
            "                                                                 \n",
            " conv2d_16 (Conv2D)          (None, 109, 109, 32)      4640      \n",
            "                                                                 \n",
            " max_pooling2d_16 (MaxPoolin  (None, 54, 54, 32)       0         \n",
            " g2D)                                                            \n",
            "                                                                 \n",
            " conv2d_17 (Conv2D)          (None, 52, 52, 32)        9248      \n",
            "                                                                 \n",
            " max_pooling2d_17 (MaxPoolin  (None, 26, 26, 32)       0         \n",
            " g2D)                                                            \n",
            "                                                                 \n",
            " flatten_7 (Flatten)         (None, 21632)             0         \n",
            "                                                                 \n",
            " dense_14 (Dense)            (None, 32)                692256    \n",
            "                                                                 \n",
            " dense_15 (Dense)            (None, 1)                 33        \n",
            "                                                                 \n",
            "=================================================================\n",
            "Total params: 706,625\n",
            "Trainable params: 706,625\n",
            "Non-trainable params: 0\n",
            "_________________________________________________________________\n"
          ]
        }
      ],
      "source": [
        "opt = keras.optimizers.Adam(learning_rate=0.0003)\n",
        "model.compile(loss='binary_crossentropy', optimizer=opt, metrics=['accuracy'])\n",
        "model.summary()"
      ]
    },
    {
      "cell_type": "code",
      "execution_count": null,
      "metadata": {
        "colab": {
          "base_uri": "https://localhost:8080/"
        },
        "id": "PF7X0zqgtu3O",
        "outputId": "fcce7ba2-a1fe-4609-a31b-24f7973ba74b"
      },
      "outputs": [
        {
          "name": "stdout",
          "output_type": "stream",
          "text": [
            "Epoch 1/40\n",
            "16/16 [==============================] - 2s 47ms/step - loss: 0.5687 - accuracy: 0.6687 - val_loss: 0.4015 - val_accuracy: 1.0000\n",
            "Epoch 2/40\n",
            "16/16 [==============================] - 1s 32ms/step - loss: 0.3593 - accuracy: 0.8438 - val_loss: 0.4542 - val_accuracy: 0.8250\n",
            "Epoch 3/40\n",
            "16/16 [==============================] - 1s 32ms/step - loss: 0.2284 - accuracy: 0.8875 - val_loss: 0.5639 - val_accuracy: 0.7250\n",
            "Epoch 4/40\n",
            "16/16 [==============================] - 1s 33ms/step - loss: 0.2094 - accuracy: 0.8938 - val_loss: 0.1522 - val_accuracy: 0.9500\n",
            "Epoch 5/40\n",
            "16/16 [==============================] - 1s 33ms/step - loss: 0.1440 - accuracy: 0.9500 - val_loss: 0.2159 - val_accuracy: 0.9000\n",
            "Epoch 6/40\n",
            "16/16 [==============================] - 1s 33ms/step - loss: 0.0931 - accuracy: 0.9688 - val_loss: 0.0407 - val_accuracy: 1.0000\n",
            "Epoch 7/40\n",
            "16/16 [==============================] - 1s 33ms/step - loss: 0.1223 - accuracy: 0.9500 - val_loss: 0.0998 - val_accuracy: 0.9750\n",
            "Epoch 8/40\n",
            "16/16 [==============================] - 1s 32ms/step - loss: 0.0907 - accuracy: 0.9750 - val_loss: 0.2589 - val_accuracy: 0.8500\n",
            "Epoch 9/40\n",
            "16/16 [==============================] - 1s 32ms/step - loss: 0.0625 - accuracy: 0.9812 - val_loss: 0.1235 - val_accuracy: 0.9750\n",
            "Epoch 10/40\n",
            "16/16 [==============================] - 1s 33ms/step - loss: 0.0643 - accuracy: 0.9875 - val_loss: 0.1043 - val_accuracy: 0.9750\n",
            "Epoch 11/40\n",
            "16/16 [==============================] - 0s 31ms/step - loss: 0.0531 - accuracy: 0.9812 - val_loss: 0.1692 - val_accuracy: 0.9750\n",
            "Epoch 12/40\n",
            "16/16 [==============================] - 1s 33ms/step - loss: 0.0306 - accuracy: 0.9875 - val_loss: 0.0556 - val_accuracy: 0.9750\n",
            "Epoch 13/40\n",
            "16/16 [==============================] - 1s 32ms/step - loss: 0.0318 - accuracy: 0.9937 - val_loss: 0.1179 - val_accuracy: 0.9750\n",
            "Epoch 14/40\n",
            "16/16 [==============================] - 1s 32ms/step - loss: 0.0234 - accuracy: 0.9875 - val_loss: 0.2305 - val_accuracy: 0.9000\n",
            "Epoch 15/40\n",
            "16/16 [==============================] - 1s 32ms/step - loss: 0.0217 - accuracy: 0.9937 - val_loss: 0.2176 - val_accuracy: 0.9250\n",
            "Epoch 16/40\n",
            "16/16 [==============================] - 1s 33ms/step - loss: 0.0209 - accuracy: 0.9937 - val_loss: 0.1475 - val_accuracy: 0.9750\n",
            "Epoch 17/40\n",
            "16/16 [==============================] - 1s 33ms/step - loss: 0.0164 - accuracy: 1.0000 - val_loss: 0.1054 - val_accuracy: 0.9750\n",
            "Epoch 18/40\n",
            "16/16 [==============================] - 1s 32ms/step - loss: 0.0116 - accuracy: 1.0000 - val_loss: 0.1357 - val_accuracy: 0.9750\n",
            "Epoch 19/40\n",
            "16/16 [==============================] - 1s 32ms/step - loss: 0.0120 - accuracy: 0.9875 - val_loss: 0.2268 - val_accuracy: 0.9250\n",
            "Epoch 20/40\n",
            "16/16 [==============================] - 1s 33ms/step - loss: 0.0156 - accuracy: 0.9937 - val_loss: 0.0515 - val_accuracy: 0.9750\n",
            "Epoch 21/40\n",
            "16/16 [==============================] - 1s 33ms/step - loss: 0.0113 - accuracy: 1.0000 - val_loss: 0.1442 - val_accuracy: 0.9750\n",
            "Epoch 22/40\n",
            "16/16 [==============================] - 1s 33ms/step - loss: 0.0048 - accuracy: 1.0000 - val_loss: 0.1740 - val_accuracy: 0.9500\n",
            "Epoch 23/40\n",
            "16/16 [==============================] - 1s 32ms/step - loss: 0.0038 - accuracy: 1.0000 - val_loss: 0.1259 - val_accuracy: 0.9750\n",
            "Epoch 24/40\n",
            "16/16 [==============================] - 1s 32ms/step - loss: 0.0023 - accuracy: 1.0000 - val_loss: 0.1331 - val_accuracy: 0.9750\n",
            "Epoch 25/40\n",
            "16/16 [==============================] - 1s 32ms/step - loss: 0.0022 - accuracy: 1.0000 - val_loss: 0.1523 - val_accuracy: 0.9750\n",
            "Epoch 26/40\n",
            "16/16 [==============================] - 1s 40ms/step - loss: 0.0019 - accuracy: 1.0000 - val_loss: 0.1127 - val_accuracy: 0.9750\n",
            "Epoch 27/40\n",
            "16/16 [==============================] - 1s 39ms/step - loss: 0.0020 - accuracy: 1.0000 - val_loss: 0.1547 - val_accuracy: 0.9750\n",
            "Epoch 28/40\n",
            "16/16 [==============================] - 0s 31ms/step - loss: 0.0014 - accuracy: 1.0000 - val_loss: 0.1281 - val_accuracy: 0.9750\n",
            "Epoch 29/40\n",
            "16/16 [==============================] - 1s 32ms/step - loss: 0.0010 - accuracy: 1.0000 - val_loss: 0.1585 - val_accuracy: 0.9750\n",
            "Epoch 30/40\n",
            "16/16 [==============================] - 1s 33ms/step - loss: 0.0011 - accuracy: 1.0000 - val_loss: 0.1624 - val_accuracy: 0.9750\n",
            "Epoch 31/40\n",
            "16/16 [==============================] - 1s 33ms/step - loss: 9.0283e-04 - accuracy: 1.0000 - val_loss: 0.1507 - val_accuracy: 0.9750\n",
            "Epoch 32/40\n",
            "16/16 [==============================] - 1s 32ms/step - loss: 8.6323e-04 - accuracy: 1.0000 - val_loss: 0.1614 - val_accuracy: 0.9750\n",
            "Epoch 33/40\n",
            "16/16 [==============================] - 1s 32ms/step - loss: 7.5929e-04 - accuracy: 1.0000 - val_loss: 0.1646 - val_accuracy: 0.9750\n",
            "Epoch 34/40\n",
            "16/16 [==============================] - 1s 33ms/step - loss: 7.0895e-04 - accuracy: 1.0000 - val_loss: 0.1560 - val_accuracy: 0.9750\n",
            "Epoch 35/40\n",
            "16/16 [==============================] - 1s 34ms/step - loss: 6.2519e-04 - accuracy: 1.0000 - val_loss: 0.1768 - val_accuracy: 0.9500\n",
            "Epoch 36/40\n",
            "16/16 [==============================] - 1s 33ms/step - loss: 6.0219e-04 - accuracy: 1.0000 - val_loss: 0.1638 - val_accuracy: 0.9750\n",
            "Epoch 37/40\n",
            "16/16 [==============================] - 1s 34ms/step - loss: 5.6762e-04 - accuracy: 1.0000 - val_loss: 0.1617 - val_accuracy: 0.9750\n",
            "Epoch 38/40\n",
            "16/16 [==============================] - 1s 32ms/step - loss: 5.2125e-04 - accuracy: 1.0000 - val_loss: 0.1759 - val_accuracy: 0.9750\n",
            "Epoch 39/40\n",
            "16/16 [==============================] - 1s 33ms/step - loss: 4.7245e-04 - accuracy: 1.0000 - val_loss: 0.1688 - val_accuracy: 0.9750\n",
            "Epoch 40/40\n",
            "16/16 [==============================] - 1s 32ms/step - loss: 4.5268e-04 - accuracy: 1.0000 - val_loss: 0.1661 - val_accuracy: 0.9750\n"
          ]
        }
      ],
      "source": [
        "train = model.fit(x=x,y=y,batch_size=10,validation_split= 0.2,epochs=40,verbose=1)"
      ]
    },
    {
      "cell_type": "code",
      "execution_count": null,
      "metadata": {
        "colab": {
          "base_uri": "https://localhost:8080/",
          "height": 683
        },
        "id": "iwu9RHDPtymA",
        "outputId": "4ae92e7a-8513-4d23-801c-6173f4bdb83c"
      },
      "outputs": [
        {
          "data": {
            "image/png": "[encoded data removed]",
            "text/plain": [
              "<Figure size 720x360 with 1 Axes>"
            ]
          },
          "metadata": {
            "needs_background": "light"
          },
          "output_type": "display_data"
        },
        {
          "data": {
            "image/png": "[encoded data removed]",
            "text/plain": [
              "<Figure size 720x360 with 1 Axes>"
            ]
          },
          "metadata": {
            "needs_background": "light"
          },
          "output_type": "display_data"
        }
      ],
      "source": [
        "accuracy = train.history['accuracy']\n",
        "val_accuracy = train.history['val_accuracy']\n",
        "\n",
        "loss = train.history['loss']\n",
        "val_loss = train.history['val_loss']\n",
        "\n",
        "epochs = range(len(accuracy))\n",
        "plt.figure(figsize=(10,5))\n",
        "\n",
        "plt.subplot(1,2,1)\n",
        "plt.plot(epochs, accuracy, 'g', label='Training Accuracy')\n",
        "plt.plot(epochs, val_accuracy, 'b', label='Validation Accuracy')\n",
        "plt.title('Training and Validation Accuracy')\n",
        "plt.xlabel('Epochs')\n",
        "plt.ylabel('Accuracy')\n",
        "plt.xlabel('Epochs')\n",
        "plt.ylabel('Loss')\n",
        "plt.legend()\n",
        "plt.show()\n",
        "\n",
        "plt.figure(figsize=(10,5))\n",
        "\n",
        "plt.subplot(1,2,2)\n",
        "plt.plot(epochs, loss, 'r', label='Training loss')\n",
        "plt.plot(epochs, val_loss, 'm', label='Validation loss')\n",
        "plt.title('Training and Validation loss')\n",
        "plt.xlabel('Epochs')\n",
        "plt.ylabel('Loss')\n",
        "plt.legend()\n",
        "plt.show()"
      ]
    },
    {
      "cell_type": "code",
      "execution_count": null,
      "metadata": {
        "colab": {
          "base_uri": "https://localhost:8080/"
        },
        "id": "DqrY2ln4uDKN",
        "outputId": "83931ea9-0c72-4d3b-bd33-f38903392271"
      },
      "outputs": [
        {
          "name": "stdout",
          "output_type": "stream",
          "text": [
            "2/2 [==============================] - 0s 15ms/step - loss: 0.0023 - accuracy: 1.0000\n"
          ]
        },
        {
          "data": {
            "text/plain": [
              "[0.002340473234653473, 1.0]"
            ]
          },
          "execution_count": 89,
          "metadata": {},
          "output_type": "execute_result"
        }
      ],
      "source": [
        "model.evaluate(x_test, y_test)"
      ]
    },
    {
      "cell_type": "code",
      "execution_count": null,
      "metadata": {
        "colab": {
          "base_uri": "https://localhost:8080/"
        },
        "id": "e4bJ1lOPunNk",
        "outputId": "e0224fc9-6c57-416e-dac3-f49766ea8e5d"
      },
      "outputs": [
        {
          "name": "stdout",
          "output_type": "stream",
          "text": [
            "[[False]\n",
            " [False]\n",
            " [False]\n",
            " [ True]\n",
            " [ True]\n",
            " [ True]\n",
            " [False]\n",
            " [ True]\n",
            " [ True]\n",
            " [False]\n",
            " [False]\n",
            " [ True]\n",
            " [ True]\n",
            " [False]\n",
            " [ True]\n",
            " [ True]\n",
            " [False]\n",
            " [ True]\n",
            " [False]\n",
            " [False]\n",
            " [ True]\n",
            " [False]\n",
            " [ True]\n",
            " [False]\n",
            " [False]\n",
            " [False]\n",
            " [False]\n",
            " [False]\n",
            " [ True]\n",
            " [ True]\n",
            " [False]\n",
            " [False]\n",
            " [False]\n",
            " [False]\n",
            " [ True]\n",
            " [ True]\n",
            " [ True]\n",
            " [ True]\n",
            " [ True]\n",
            " [False]]\n"
          ]
        }
      ],
      "source": [
        "pred = model.predict(x_test) > 0.5\n",
        "print(pred)"
      ]
    },
    {
      "cell_type": "code",
      "execution_count": null,
      "metadata": {
        "colab": {
          "base_uri": "https://localhost:8080/",
          "height": 283
        },
        "id": "TWndrYpTuqKM",
        "outputId": "16bf8876-f6ec-481d-cf15-9bde7a28ef66"
      },
      "outputs": [
        {
          "data": {
            "text/plain": [
              "<matplotlib.axes._subplots.AxesSubplot at 0x7fc95029fb10>"
            ]
          },
          "execution_count": 91,
          "metadata": {},
          "output_type": "execute_result"
        },
        {
          "data": {
            "image/png": "[encoded data removed]",
            "text/plain": [
              "<Figure size 432x288 with 2 Axes>"
            ]
          },
          "metadata": {
            "needs_background": "light"
          },
          "output_type": "display_data"
        }
      ],
      "source": [
        "import seaborn as sns\n",
        "confusion_mat = confusion_matrix(pred, y_test)\n",
        "sns.heatmap(confusion_mat, annot=True)"
      ]
    },
    {
      "cell_type": "code",
      "execution_count": null,
      "metadata": {
        "colab": {
          "base_uri": "https://localhost:8080/"
        },
        "id": "n1i-oa31utaU",
        "outputId": "b8412b8c-68ac-4ad0-e564-0290c5916218"
      },
      "outputs": [
        {
          "name": "stdout",
          "output_type": "stream",
          "text": [
            "              precision    recall  f1-score   support\n",
            "\n",
            "           0       1.00      1.00      1.00        21\n",
            "           1       1.00      1.00      1.00        19\n",
            "\n",
            "    accuracy                           1.00        40\n",
            "   macro avg       1.00      1.00      1.00        40\n",
            "weighted avg       1.00      1.00      1.00        40\n",
            "\n"
          ]
        }
      ],
      "source": [
        "print(classification_report(y_test, pred))"
      ]
    },
    {
      "cell_type": "code",
      "execution_count": null,
      "metadata": {
        "id": "N5RLJVKUuwl7"
      },
      "outputs": [],
      "source": []
    },
    {
      "cell_type": "markdown",
      "metadata": {
        "id": "p6iwCLxuu2Rx"
      },
      "source": [
        "### Adding Data Augmentation to the Model"
      ]
    },
    {
      "cell_type": "code",
      "execution_count": null,
      "metadata": {
        "id": "bfsPHplSu7eM"
      },
      "outputs": [],
      "source": [
        "data_augmentation = keras.Sequential([\n",
        "    layers.RandomRotation(0.1),\n",
        "    layers.RandomZoom(0.1)]\n",
        ")"
      ]
    },
    {
      "cell_type": "code",
      "execution_count": null,
      "metadata": {
        "id": "ZfocGagdvBMZ"
      },
      "outputs": [],
      "source": [
        "model1 = Sequential([\n",
        "    data_augmentation,\n",
        "    Conv2D(filters=16, input_shape=(224,224,3), activation='relu', kernel_size=(3,3)),\n",
        "    MaxPooling2D(),\n",
        "    Conv2D(filters=32, input_shape=(224,224,3), activation='relu', kernel_size=(3,3)),\n",
        "    MaxPooling2D(),\n",
        "    Conv2D(filters=32, input_shape=(224,224,3), activation='relu', kernel_size=(3,3)),\n",
        "    MaxPooling2D(),\n",
        "    Flatten(),\n",
        "    Dense(units=32, activation='relu'),\n",
        "    Dense(units=1, activation='sigmoid')\n",
        "])"
      ]
    },
    {
      "cell_type": "code",
      "execution_count": null,
      "metadata": {
        "id": "NJYyOMMbvELO"
      },
      "outputs": [],
      "source": [
        "opt = keras.optimizers.Adam(learning_rate=0.03)\n",
        "model1.compile(loss='binary_crossentropy', optimizer=opt, metrics=['accuracy'])"
      ]
    },
    {
      "cell_type": "markdown",
      "metadata": {
        "id": "RRvtqeuL3Yca"
      },
      "source": [
        "## Implementing early stopping"
      ]
    },
    {
      "cell_type": "code",
      "execution_count": null,
      "metadata": {
        "id": "67rOYU7FvG4B"
      },
      "outputs": [],
      "source": [
        "callback = tf.keras.callbacks.EarlyStopping(\n",
        "    monitor = 'accuracy',\n",
        "    patience = 5\n",
        ")"
      ]
    },
    {
      "cell_type": "markdown",
      "metadata": {
        "id": "6XPI0S5e23s5"
      },
      "source": [
        "Training the model with data augmentation and adding earlystopping."
      ]
    },
    {
      "cell_type": "code",
      "execution_count": null,
      "metadata": {
        "colab": {
          "base_uri": "https://localhost:8080/"
        },
        "id": "pdJUoiTBvI8X",
        "outputId": "14a2875c-cacf-48f1-f5c0-891b00b50e36"
      },
      "outputs": [
        {
          "name": "stdout",
          "output_type": "stream",
          "text": [
            "Epoch 1/40\n",
            "16/16 [==============================] - 2s 48ms/step - loss: 0.6821 - accuracy: 0.6313 - val_loss: 1.2943 - val_accuracy: 0.0000e+00\n",
            "Epoch 2/40\n",
            "16/16 [==============================] - 1s 35ms/step - loss: 0.5759 - accuracy: 0.7250 - val_loss: 1.4614 - val_accuracy: 0.0000e+00\n",
            "Epoch 3/40\n",
            "16/16 [==============================] - 1s 35ms/step - loss: 0.5221 - accuracy: 0.6875 - val_loss: 0.7773 - val_accuracy: 0.5750\n",
            "Epoch 4/40\n",
            "16/16 [==============================] - 1s 34ms/step - loss: 0.4029 - accuracy: 0.8687 - val_loss: 0.5774 - val_accuracy: 0.6750\n",
            "Epoch 5/40\n",
            "16/16 [==============================] - 1s 35ms/step - loss: 0.2832 - accuracy: 0.8813 - val_loss: 0.6572 - val_accuracy: 0.6750\n",
            "Epoch 6/40\n",
            "16/16 [==============================] - 1s 34ms/step - loss: 0.2173 - accuracy: 0.9250 - val_loss: 0.1982 - val_accuracy: 0.9250\n",
            "Epoch 7/40\n",
            "16/16 [==============================] - 1s 34ms/step - loss: 0.2509 - accuracy: 0.9062 - val_loss: 0.3841 - val_accuracy: 0.8500\n",
            "Epoch 8/40\n",
            "16/16 [==============================] - 1s 34ms/step - loss: 0.1718 - accuracy: 0.9375 - val_loss: 0.2669 - val_accuracy: 0.9250\n",
            "Epoch 9/40\n",
            "16/16 [==============================] - 1s 34ms/step - loss: 0.1385 - accuracy: 0.9625 - val_loss: 0.5134 - val_accuracy: 0.7750\n",
            "Epoch 10/40\n",
            "16/16 [==============================] - 1s 35ms/step - loss: 0.2204 - accuracy: 0.9062 - val_loss: 0.4718 - val_accuracy: 0.7750\n",
            "Epoch 11/40\n",
            "16/16 [==============================] - 1s 36ms/step - loss: 0.1632 - accuracy: 0.9625 - val_loss: 0.1800 - val_accuracy: 0.9500\n",
            "Epoch 12/40\n",
            "16/16 [==============================] - 1s 36ms/step - loss: 0.1562 - accuracy: 0.9500 - val_loss: 0.0956 - val_accuracy: 0.9500\n",
            "Epoch 13/40\n",
            "16/16 [==============================] - 1s 35ms/step - loss: 0.1322 - accuracy: 0.9563 - val_loss: 0.1794 - val_accuracy: 0.9250\n",
            "Epoch 14/40\n",
            "16/16 [==============================] - 1s 33ms/step - loss: 0.1217 - accuracy: 0.9750 - val_loss: 0.2394 - val_accuracy: 0.9250\n",
            "Epoch 15/40\n",
            "16/16 [==============================] - 1s 34ms/step - loss: 0.1091 - accuracy: 0.9688 - val_loss: 0.1579 - val_accuracy: 0.9500\n",
            "Epoch 16/40\n",
            "16/16 [==============================] - 1s 34ms/step - loss: 0.1352 - accuracy: 0.9563 - val_loss: 0.1572 - val_accuracy: 0.9500\n",
            "Epoch 17/40\n",
            "16/16 [==============================] - 1s 35ms/step - loss: 0.1076 - accuracy: 0.9500 - val_loss: 0.2031 - val_accuracy: 0.9500\n",
            "Epoch 18/40\n",
            "16/16 [==============================] - 1s 35ms/step - loss: 0.0763 - accuracy: 0.9812 - val_loss: 0.1717 - val_accuracy: 0.9500\n",
            "Epoch 19/40\n",
            "16/16 [==============================] - 1s 35ms/step - loss: 0.0809 - accuracy: 0.9625 - val_loss: 0.0807 - val_accuracy: 0.9500\n",
            "Epoch 20/40\n",
            "16/16 [==============================] - 1s 34ms/step - loss: 0.0666 - accuracy: 0.9937 - val_loss: 0.2745 - val_accuracy: 0.9500\n",
            "Epoch 21/40\n",
            "16/16 [==============================] - 1s 35ms/step - loss: 0.1253 - accuracy: 0.9688 - val_loss: 0.1793 - val_accuracy: 0.9500\n",
            "Epoch 22/40\n",
            "16/16 [==============================] - 1s 34ms/step - loss: 0.1276 - accuracy: 0.9625 - val_loss: 0.2044 - val_accuracy: 0.9500\n",
            "Epoch 23/40\n",
            "16/16 [==============================] - 1s 35ms/step - loss: 0.0824 - accuracy: 0.9750 - val_loss: 0.2702 - val_accuracy: 0.9500\n",
            "Epoch 24/40\n",
            "16/16 [==============================] - 1s 36ms/step - loss: 0.1014 - accuracy: 0.9688 - val_loss: 0.1833 - val_accuracy: 0.9500\n",
            "Epoch 25/40\n",
            "16/16 [==============================] - 1s 34ms/step - loss: 0.0738 - accuracy: 0.9812 - val_loss: 0.3164 - val_accuracy: 0.9250\n"
          ]
        }
      ],
      "source": [
        "train1 = model1.fit(x=x,\n",
        "          y=y,\n",
        "          batch_size=10,\n",
        "          validation_split= 0.2,\n",
        "          epochs=40,\n",
        "          callbacks=[callback],\n",
        "          verbose=1    \n",
        "        )"
      ]
    },
    {
      "cell_type": "code",
      "execution_count": null,
      "metadata": {
        "colab": {
          "base_uri": "https://localhost:8080/"
        },
        "id": "mCoT4M8PvLGu",
        "outputId": "1db66c6d-c6aa-4a1d-a1a3-0ef841a5865c"
      },
      "outputs": [
        {
          "name": "stdout",
          "output_type": "stream",
          "text": [
            "Model: \"sequential_6\"\n",
            "_________________________________________________________________\n",
            " Layer (type)                Output Shape              Param #   \n",
            "=================================================================\n",
            " sequential_5 (Sequential)   (10, 224, 224, 3)         0         \n",
            "                                                                 \n",
            " conv2d_9 (Conv2D)           (10, 222, 222, 16)        448       \n",
            "                                                                 \n",
            " max_pooling2d_9 (MaxPooling  (10, 111, 111, 16)       0         \n",
            " 2D)                                                             \n",
            "                                                                 \n",
            " conv2d_10 (Conv2D)          (10, 109, 109, 32)        4640      \n",
            "                                                                 \n",
            " max_pooling2d_10 (MaxPoolin  (10, 54, 54, 32)         0         \n",
            " g2D)                                                            \n",
            "                                                                 \n",
            " conv2d_11 (Conv2D)          (10, 52, 52, 32)          9248      \n",
            "                                                                 \n",
            " max_pooling2d_11 (MaxPoolin  (10, 26, 26, 32)         0         \n",
            " g2D)                                                            \n",
            "                                                                 \n",
            " flatten_3 (Flatten)         (10, 21632)               0         \n",
            "                                                                 \n",
            " dense_6 (Dense)             (10, 32)                  692256    \n",
            "                                                                 \n",
            " dense_7 (Dense)             (10, 1)                   33        \n",
            "                                                                 \n",
            "=================================================================\n",
            "Total params: 706,625\n",
            "Trainable params: 706,625\n",
            "Non-trainable params: 0\n",
            "_________________________________________________________________\n"
          ]
        }
      ],
      "source": [
        "model1.summary()"
      ]
    },
    {
      "cell_type": "code",
      "execution_count": null,
      "metadata": {
        "colab": {
          "base_uri": "https://localhost:8080/",
          "height": 683
        },
        "id": "phQ8d2IAvUv2",
        "outputId": "407d89f4-1735-4481-c2a7-145181afac90"
      },
      "outputs": [
        {
          "data": {
            "image/png": "[encoded data removed]",
            "text/plain": [
              "<Figure size 720x360 with 1 Axes>"
            ]
          },
          "metadata": {
            "needs_background": "light"
          },
          "output_type": "display_data"
        },
        {
          "data": {
            "image/png": "[encoded data removed]",
            "text/plain": [
              "<Figure size 720x360 with 1 Axes>"
            ]
          },
          "metadata": {
            "needs_background": "light"
          },
          "output_type": "display_data"
        }
      ],
      "source": [
        "accuracy1 = train1.history['accuracy']\n",
        "val_accuracy1 = train1.history['val_accuracy']\n",
        "\n",
        "loss1 = train1.history['loss']\n",
        "val_loss1 = train1.history['val_loss']\n",
        "\n",
        "epochs1 = range(len(accuracy1))\n",
        "plt.figure(figsize=(10,5))\n",
        "\n",
        "plt.subplot(1,2,1)\n",
        "plt.plot(epochs1, accuracy1, 'g', label='Training Accuracy')\n",
        "plt.plot(epochs1, val_accuracy1, 'b', label='Validation Accuracy')\n",
        "plt.title('Training and Validation Accuracy')\n",
        "plt.xlabel('Epochs')\n",
        "plt.ylabel('Accuracy')\n",
        "plt.legend()\n",
        "plt.show()\n",
        "\n",
        "plt.figure(figsize=(10,5))\n",
        "plt.subplot(1,2,2)\n",
        "plt.plot(epochs1, loss1, 'r', label='Training loss')\n",
        "plt.plot(epochs1, val_loss1, 'm', label='Validation loss')\n",
        "plt.title('Training and Validation loss')\n",
        "plt.xlabel('Epochs')\n",
        "plt.ylabel('Loss')\n",
        "plt.legend()\n",
        "plt.show()"
      ]
    },
    {
      "cell_type": "code",
      "execution_count": null,
      "metadata": {
        "colab": {
          "base_uri": "https://localhost:8080/"
        },
        "id": "xuyj2FcLvcBT",
        "outputId": "0f856bd3-e67f-4805-ef53-0fe944717a13"
      },
      "outputs": [
        {
          "name": "stdout",
          "output_type": "stream",
          "text": [
            "2/2 [==============================] - 0s 15ms/step - loss: 0.0206 - accuracy: 1.0000\n"
          ]
        },
        {
          "data": {
            "text/plain": [
              "[0.020618943497538567, 1.0]"
            ]
          },
          "execution_count": 103,
          "metadata": {},
          "output_type": "execute_result"
        }
      ],
      "source": [
        "model1.evaluate(x_test, y_test)"
      ]
    },
    {
      "cell_type": "code",
      "execution_count": null,
      "metadata": {
        "colab": {
          "base_uri": "https://localhost:8080/"
        },
        "id": "25lv7s2ovkPF",
        "outputId": "13c360ce-c742-4c48-85d2-d9c556bf9a07"
      },
      "outputs": [
        {
          "name": "stdout",
          "output_type": "stream",
          "text": [
            "WARNING:tensorflow:5 out of the last 9 calls to <function Model.make_predict_function.<locals>.predict_function at 0x7ff8a11ad710> triggered tf.function retracing. Tracing is expensive and the excessive number of tracings could be due to (1) creating @tf.function repeatedly in a loop, (2) passing tensors with different shapes, (3) passing Python objects instead of tensors. For (1), please define your @tf.function outside of the loop. For (2), @tf.function has experimental_relax_shapes=True option that relaxes argument shapes that can avoid unnecessary retracing. For (3), please refer to https://www.tensorflow.org/guide/function#controlling_retracing and https://www.tensorflow.org/api_docs/python/tf/function for  more details.\n",
            "[[False]\n",
            " [False]\n",
            " [False]\n",
            " [ True]\n",
            " [ True]\n",
            " [ True]\n",
            " [False]\n",
            " [ True]\n",
            " [ True]\n",
            " [False]\n",
            " [False]\n",
            " [ True]\n",
            " [ True]\n",
            " [False]\n",
            " [ True]\n",
            " [ True]\n",
            " [False]\n",
            " [ True]\n",
            " [False]\n",
            " [False]\n",
            " [ True]\n",
            " [False]\n",
            " [ True]\n",
            " [False]\n",
            " [False]\n",
            " [False]\n",
            " [False]\n",
            " [False]\n",
            " [ True]\n",
            " [ True]\n",
            " [False]\n",
            " [False]\n",
            " [False]\n",
            " [False]\n",
            " [ True]\n",
            " [ True]\n",
            " [ True]\n",
            " [ True]\n",
            " [ True]\n",
            " [False]]\n"
          ]
        }
      ],
      "source": [
        "pred1 = model1.predict(x_test) > 0.5\n",
        "print(pred1)"
      ]
    },
    {
      "cell_type": "code",
      "execution_count": null,
      "metadata": {
        "colab": {
          "base_uri": "https://localhost:8080/",
          "height": 283
        },
        "id": "qDbrmrdPvnyn",
        "outputId": "7a86bf1a-0c45-4ada-d543-917d1f4e4555"
      },
      "outputs": [
        {
          "data": {
            "text/plain": [
              "<matplotlib.axes._subplots.AxesSubplot at 0x7ff8a1e778d0>"
            ]
          },
          "execution_count": 105,
          "metadata": {},
          "output_type": "execute_result"
        },
        {
          "data": {
            "image/png": "[encoded data removed]",
            "text/plain": [
              "<Figure size 432x288 with 2 Axes>"
            ]
          },
          "metadata": {
            "needs_background": "light"
          },
          "output_type": "display_data"
        }
      ],
      "source": [
        "import seaborn as sns\n",
        "confusion_mat = confusion_matrix(pred, y_test)\n",
        "sns.heatmap(confusion_mat, annot=True)"
      ]
    },
    {
      "cell_type": "code",
      "execution_count": null,
      "metadata": {
        "colab": {
          "base_uri": "https://localhost:8080/"
        },
        "id": "1XOydgWSvtSb",
        "outputId": "bb5308a4-1400-43cf-a9a7-c6f5daaedace"
      },
      "outputs": [
        {
          "name": "stdout",
          "output_type": "stream",
          "text": [
            "              precision    recall  f1-score   support\n",
            "\n",
            "           0       1.00      1.00      1.00        21\n",
            "           1       1.00      1.00      1.00        19\n",
            "\n",
            "    accuracy                           1.00        40\n",
            "   macro avg       1.00      1.00      1.00        40\n",
            "weighted avg       1.00      1.00      1.00        40\n",
            "\n"
          ]
        }
      ],
      "source": [
        "print(classification_report(y_test, pred))"
      ]
    },
    {
      "cell_type": "code",
      "execution_count": null,
      "metadata": {
        "id": "tRubYNDbv_0m"
      },
      "outputs": [],
      "source": []
    },
    {
      "cell_type": "markdown",
      "metadata": {
        "id": "ItLdNSpAv1Xj"
      },
      "source": [
        "### Adding the Resnet50 Model"
      ]
    },
    {
      "cell_type": "code",
      "execution_count": null,
      "metadata": {
        "id": "XnAfJVF9v03l"
      },
      "outputs": [],
      "source": [
        "modelR50 = Sequential([\n",
        "    tf.keras.applications.ResNet50(\n",
        "    include_top=False,\n",
        "    weights=\"imagenet\",\n",
        "    input_shape=(224, 224, 3),\n",
        "    pooling='avg'),\n",
        "    Flatten(),\n",
        "    Dense(units=64, activation='relu'),\n",
        "    Dense(units=1, activation='sigmoid')\n",
        "])\n",
        "modelR50.layers[0].trainable = False"
      ]
    },
    {
      "cell_type": "code",
      "execution_count": null,
      "metadata": {
        "colab": {
          "base_uri": "https://localhost:8080/"
        },
        "id": "uax1GanFvyKB",
        "outputId": "4d1f1ab4-0800-4a41-8bf3-0159570f17c6"
      },
      "outputs": [
        {
          "name": "stdout",
          "output_type": "stream",
          "text": [
            "Model: \"sequential_9\"\n",
            "_________________________________________________________________\n",
            " Layer (type)                Output Shape              Param #   \n",
            "=================================================================\n",
            " resnet50 (Functional)       (None, 2048)              23587712  \n",
            "                                                                 \n",
            " flatten_6 (Flatten)         (None, 2048)              0         \n",
            "                                                                 \n",
            " dense_12 (Dense)            (None, 64)                131136    \n",
            "                                                                 \n",
            " dense_13 (Dense)            (None, 1)                 65        \n",
            "                                                                 \n",
            "=================================================================\n",
            "Total params: 23,718,913\n",
            "Trainable params: 131,201\n",
            "Non-trainable params: 23,587,712\n",
            "_________________________________________________________________\n"
          ]
        }
      ],
      "source": [
        "opt = keras.optimizers.Adam(learning_rate=0.001)\n",
        "modelR50.compile(loss='binary_crossentropy', optimizer=opt, metrics=['accuracy'])\n",
        "modelR50.summary()"
      ]
    },
    {
      "cell_type": "code",
      "execution_count": null,
      "metadata": {
        "colab": {
          "base_uri": "https://localhost:8080/"
        },
        "id": "_VuUjIozwKEm",
        "outputId": "121c268d-080e-4e32-b922-5940119b7fc2"
      },
      "outputs": [
        {
          "name": "stdout",
          "output_type": "stream",
          "text": [
            "Epoch 1/100\n",
            "5/5 [==============================] - 6s 652ms/step - loss: 0.6796 - accuracy: 0.5875 - val_loss: 0.9889 - val_accuracy: 0.0000e+00\n",
            "Epoch 2/100\n",
            "5/5 [==============================] - 2s 352ms/step - loss: 0.6575 - accuracy: 0.6250 - val_loss: 1.0488 - val_accuracy: 0.0000e+00\n",
            "Epoch 3/100\n",
            "5/5 [==============================] - 2s 356ms/step - loss: 0.6376 - accuracy: 0.6250 - val_loss: 0.8440 - val_accuracy: 0.0000e+00\n",
            "Epoch 4/100\n",
            "5/5 [==============================] - 2s 354ms/step - loss: 0.6151 - accuracy: 0.6250 - val_loss: 0.9121 - val_accuracy: 0.0000e+00\n",
            "Epoch 5/100\n",
            "5/5 [==============================] - 2s 355ms/step - loss: 0.6035 - accuracy: 0.6250 - val_loss: 0.7816 - val_accuracy: 0.0000e+00\n",
            "Epoch 6/100\n",
            "5/5 [==============================] - 2s 355ms/step - loss: 0.5861 - accuracy: 0.6250 - val_loss: 0.9482 - val_accuracy: 0.0000e+00\n",
            "Epoch 7/100\n",
            "5/5 [==============================] - 2s 356ms/step - loss: 0.5643 - accuracy: 0.6250 - val_loss: 0.7856 - val_accuracy: 0.0000e+00\n",
            "Epoch 8/100\n",
            "5/5 [==============================] - 2s 354ms/step - loss: 0.5555 - accuracy: 0.6500 - val_loss: 0.6857 - val_accuracy: 0.6000\n",
            "Epoch 9/100\n",
            "5/5 [==============================] - 2s 355ms/step - loss: 0.5366 - accuracy: 0.7500 - val_loss: 0.8637 - val_accuracy: 0.0000e+00\n",
            "Epoch 10/100\n",
            "5/5 [==============================] - 2s 354ms/step - loss: 0.5233 - accuracy: 0.6438 - val_loss: 0.6765 - val_accuracy: 0.6250\n",
            "Epoch 11/100\n",
            "5/5 [==============================] - 2s 354ms/step - loss: 0.5048 - accuracy: 0.8875 - val_loss: 0.7424 - val_accuracy: 0.3500\n",
            "Epoch 12/100\n",
            "5/5 [==============================] - 2s 357ms/step - loss: 0.4889 - accuracy: 0.7063 - val_loss: 0.7220 - val_accuracy: 0.4000\n",
            "Epoch 13/100\n",
            "5/5 [==============================] - 2s 355ms/step - loss: 0.4690 - accuracy: 0.8438 - val_loss: 0.6318 - val_accuracy: 0.8500\n",
            "Epoch 14/100\n",
            "5/5 [==============================] - 2s 353ms/step - loss: 0.4620 - accuracy: 0.8125 - val_loss: 0.6652 - val_accuracy: 0.6750\n",
            "Epoch 15/100\n",
            "5/5 [==============================] - 2s 354ms/step - loss: 0.4479 - accuracy: 0.9125 - val_loss: 0.5690 - val_accuracy: 0.9000\n",
            "Epoch 16/100\n",
            "5/5 [==============================] - 2s 355ms/step - loss: 0.4294 - accuracy: 0.8375 - val_loss: 0.6855 - val_accuracy: 0.6000\n",
            "Epoch 17/100\n",
            "5/5 [==============================] - 2s 356ms/step - loss: 0.4053 - accuracy: 0.9062 - val_loss: 0.4540 - val_accuracy: 0.9500\n",
            "Epoch 18/100\n",
            "5/5 [==============================] - 2s 353ms/step - loss: 0.3999 - accuracy: 0.9563 - val_loss: 0.5796 - val_accuracy: 0.8750\n",
            "Epoch 19/100\n",
            "5/5 [==============================] - 2s 354ms/step - loss: 0.3819 - accuracy: 0.9312 - val_loss: 0.5368 - val_accuracy: 0.9000\n",
            "Epoch 20/100\n",
            "5/5 [==============================] - 2s 353ms/step - loss: 0.3729 - accuracy: 0.9500 - val_loss: 0.4985 - val_accuracy: 0.9000\n",
            "Epoch 21/100\n",
            "5/5 [==============================] - 2s 355ms/step - loss: 0.3681 - accuracy: 0.9000 - val_loss: 0.4456 - val_accuracy: 0.9000\n",
            "Epoch 22/100\n",
            "5/5 [==============================] - 2s 356ms/step - loss: 0.3516 - accuracy: 0.9500 - val_loss: 0.4794 - val_accuracy: 0.9000\n",
            "Epoch 23/100\n",
            "5/5 [==============================] - 2s 357ms/step - loss: 0.3323 - accuracy: 0.9625 - val_loss: 0.4443 - val_accuracy: 0.9000\n",
            "Epoch 24/100\n",
            "5/5 [==============================] - 2s 355ms/step - loss: 0.3241 - accuracy: 0.9625 - val_loss: 0.4146 - val_accuracy: 0.9000\n",
            "Epoch 25/100\n",
            "5/5 [==============================] - 2s 353ms/step - loss: 0.3098 - accuracy: 0.9500 - val_loss: 0.4588 - val_accuracy: 0.9000\n",
            "Epoch 26/100\n",
            "5/5 [==============================] - 2s 355ms/step - loss: 0.2989 - accuracy: 0.9500 - val_loss: 0.3821 - val_accuracy: 0.9000\n",
            "Epoch 27/100\n",
            "5/5 [==============================] - 2s 356ms/step - loss: 0.2882 - accuracy: 0.9500 - val_loss: 0.4052 - val_accuracy: 0.9000\n",
            "Epoch 28/100\n",
            "5/5 [==============================] - 2s 353ms/step - loss: 0.2834 - accuracy: 0.9563 - val_loss: 0.3040 - val_accuracy: 0.9500\n",
            "Epoch 29/100\n",
            "5/5 [==============================] - 2s 354ms/step - loss: 0.2748 - accuracy: 0.9563 - val_loss: 0.3619 - val_accuracy: 0.9000\n",
            "Epoch 30/100\n",
            "5/5 [==============================] - 2s 354ms/step - loss: 0.2667 - accuracy: 0.9625 - val_loss: 0.2943 - val_accuracy: 0.9500\n",
            "Epoch 31/100\n",
            "5/5 [==============================] - 2s 355ms/step - loss: 0.2724 - accuracy: 0.9438 - val_loss: 0.4609 - val_accuracy: 0.9000\n",
            "Epoch 32/100\n",
            "5/5 [==============================] - 2s 353ms/step - loss: 0.2642 - accuracy: 0.9500 - val_loss: 0.2899 - val_accuracy: 0.9500\n",
            "Epoch 33/100\n",
            "5/5 [==============================] - 2s 422ms/step - loss: 0.2434 - accuracy: 0.9688 - val_loss: 0.2866 - val_accuracy: 0.9500\n",
            "Epoch 34/100\n",
            "5/5 [==============================] - 2s 354ms/step - loss: 0.2417 - accuracy: 0.9438 - val_loss: 0.3335 - val_accuracy: 0.9000\n",
            "Epoch 35/100\n",
            "5/5 [==============================] - 2s 354ms/step - loss: 0.2252 - accuracy: 0.9625 - val_loss: 0.2301 - val_accuracy: 0.9500\n",
            "Epoch 36/100\n",
            "5/5 [==============================] - 2s 354ms/step - loss: 0.2334 - accuracy: 0.9563 - val_loss: 0.3992 - val_accuracy: 0.9000\n",
            "Epoch 37/100\n",
            "5/5 [==============================] - 2s 353ms/step - loss: 0.2232 - accuracy: 0.9563 - val_loss: 0.2297 - val_accuracy: 0.9500\n",
            "Epoch 38/100\n",
            "5/5 [==============================] - 2s 353ms/step - loss: 0.2148 - accuracy: 0.9688 - val_loss: 0.3204 - val_accuracy: 0.9000\n",
            "Epoch 39/100\n",
            "5/5 [==============================] - 2s 421ms/step - loss: 0.2155 - accuracy: 0.9438 - val_loss: 0.2383 - val_accuracy: 0.9500\n",
            "Epoch 40/100\n",
            "5/5 [==============================] - 2s 358ms/step - loss: 0.2059 - accuracy: 0.9563 - val_loss: 0.3066 - val_accuracy: 0.9000\n",
            "Epoch 41/100\n",
            "5/5 [==============================] - 2s 354ms/step - loss: 0.2009 - accuracy: 0.9625 - val_loss: 0.2324 - val_accuracy: 0.9500\n",
            "Epoch 42/100\n",
            "5/5 [==============================] - 2s 355ms/step - loss: 0.2061 - accuracy: 0.9563 - val_loss: 0.2850 - val_accuracy: 0.9000\n",
            "Epoch 43/100\n",
            "5/5 [==============================] - 2s 357ms/step - loss: 0.1962 - accuracy: 0.9625 - val_loss: 0.2004 - val_accuracy: 0.9500\n",
            "Epoch 44/100\n",
            "5/5 [==============================] - 2s 354ms/step - loss: 0.1888 - accuracy: 0.9688 - val_loss: 0.3244 - val_accuracy: 0.9000\n",
            "Epoch 45/100\n",
            "5/5 [==============================] - 2s 423ms/step - loss: 0.1879 - accuracy: 0.9625 - val_loss: 0.1865 - val_accuracy: 0.9500\n",
            "Epoch 46/100\n",
            "5/5 [==============================] - 2s 354ms/step - loss: 0.1838 - accuracy: 0.9625 - val_loss: 0.2746 - val_accuracy: 0.9000\n",
            "Epoch 47/100\n",
            "5/5 [==============================] - 2s 357ms/step - loss: 0.1896 - accuracy: 0.9563 - val_loss: 0.2076 - val_accuracy: 0.9500\n",
            "Epoch 48/100\n",
            "5/5 [==============================] - 2s 353ms/step - loss: 0.1958 - accuracy: 0.9625 - val_loss: 0.2536 - val_accuracy: 0.9250\n",
            "Epoch 49/100\n",
            "5/5 [==============================] - 2s 353ms/step - loss: 0.1895 - accuracy: 0.9563 - val_loss: 0.2100 - val_accuracy: 0.9500\n",
            "Epoch 50/100\n",
            "5/5 [==============================] - 2s 354ms/step - loss: 0.1776 - accuracy: 0.9563 - val_loss: 0.2461 - val_accuracy: 0.9250\n",
            "Epoch 51/100\n",
            "5/5 [==============================] - 2s 358ms/step - loss: 0.1723 - accuracy: 0.9688 - val_loss: 0.1815 - val_accuracy: 0.9500\n",
            "Epoch 52/100\n",
            "5/5 [==============================] - 2s 355ms/step - loss: 0.1650 - accuracy: 0.9563 - val_loss: 0.2701 - val_accuracy: 0.9000\n",
            "Epoch 53/100\n",
            "5/5 [==============================] - 2s 358ms/step - loss: 0.1655 - accuracy: 0.9500 - val_loss: 0.1758 - val_accuracy: 0.9500\n",
            "Epoch 54/100\n",
            "5/5 [==============================] - 2s 353ms/step - loss: 0.1659 - accuracy: 0.9688 - val_loss: 0.2391 - val_accuracy: 0.9250\n",
            "Epoch 55/100\n",
            "5/5 [==============================] - 2s 357ms/step - loss: 0.1662 - accuracy: 0.9500 - val_loss: 0.2056 - val_accuracy: 0.9500\n",
            "Epoch 56/100\n",
            "5/5 [==============================] - 2s 356ms/step - loss: 0.1615 - accuracy: 0.9688 - val_loss: 0.2085 - val_accuracy: 0.9250\n",
            "Epoch 57/100\n",
            "5/5 [==============================] - 2s 354ms/step - loss: 0.1567 - accuracy: 0.9625 - val_loss: 0.1837 - val_accuracy: 0.9500\n",
            "Epoch 58/100\n",
            "5/5 [==============================] - 2s 357ms/step - loss: 0.1552 - accuracy: 0.9563 - val_loss: 0.2035 - val_accuracy: 0.9500\n",
            "Epoch 59/100\n",
            "5/5 [==============================] - 2s 354ms/step - loss: 0.1561 - accuracy: 0.9688 - val_loss: 0.2057 - val_accuracy: 0.9250\n",
            "Epoch 60/100\n",
            "5/5 [==============================] - 2s 355ms/step - loss: 0.1580 - accuracy: 0.9500 - val_loss: 0.2049 - val_accuracy: 0.9250\n",
            "Epoch 61/100\n",
            "5/5 [==============================] - 2s 355ms/step - loss: 0.1483 - accuracy: 0.9688 - val_loss: 0.1525 - val_accuracy: 0.9500\n",
            "Epoch 62/100\n",
            "5/5 [==============================] - 2s 355ms/step - loss: 0.1525 - accuracy: 0.9563 - val_loss: 0.2047 - val_accuracy: 0.9250\n",
            "Epoch 63/100\n",
            "5/5 [==============================] - 2s 354ms/step - loss: 0.1550 - accuracy: 0.9625 - val_loss: 0.2038 - val_accuracy: 0.9250\n",
            "Epoch 64/100\n",
            "5/5 [==============================] - 2s 355ms/step - loss: 0.1476 - accuracy: 0.9500 - val_loss: 0.1806 - val_accuracy: 0.9500\n",
            "Epoch 65/100\n",
            "5/5 [==============================] - 2s 353ms/step - loss: 0.1498 - accuracy: 0.9625 - val_loss: 0.2004 - val_accuracy: 0.9250\n",
            "Epoch 66/100\n",
            "5/5 [==============================] - 2s 356ms/step - loss: 0.1496 - accuracy: 0.9563 - val_loss: 0.1658 - val_accuracy: 0.9500\n",
            "Epoch 67/100\n",
            "5/5 [==============================] - 2s 354ms/step - loss: 0.1480 - accuracy: 0.9563 - val_loss: 0.1732 - val_accuracy: 0.9500\n",
            "Epoch 68/100\n",
            "5/5 [==============================] - 2s 353ms/step - loss: 0.1428 - accuracy: 0.9625 - val_loss: 0.1977 - val_accuracy: 0.9250\n",
            "Epoch 69/100\n",
            "5/5 [==============================] - 2s 356ms/step - loss: 0.1499 - accuracy: 0.9625 - val_loss: 0.2210 - val_accuracy: 0.9250\n",
            "Epoch 70/100\n",
            "5/5 [==============================] - 2s 354ms/step - loss: 0.1539 - accuracy: 0.9563 - val_loss: 0.1659 - val_accuracy: 0.9500\n",
            "Epoch 71/100\n",
            "5/5 [==============================] - 2s 353ms/step - loss: 0.1528 - accuracy: 0.9563 - val_loss: 0.1677 - val_accuracy: 0.9500\n",
            "Epoch 72/100\n",
            "5/5 [==============================] - 2s 356ms/step - loss: 0.1585 - accuracy: 0.9500 - val_loss: 0.1954 - val_accuracy: 0.9250\n",
            "Epoch 73/100\n",
            "5/5 [==============================] - 2s 356ms/step - loss: 0.1559 - accuracy: 0.9563 - val_loss: 0.1373 - val_accuracy: 0.9500\n",
            "Epoch 74/100\n",
            "5/5 [==============================] - 2s 355ms/step - loss: 0.1524 - accuracy: 0.9500 - val_loss: 0.2702 - val_accuracy: 0.9000\n",
            "Epoch 75/100\n",
            "5/5 [==============================] - 2s 353ms/step - loss: 0.1496 - accuracy: 0.9688 - val_loss: 0.1199 - val_accuracy: 0.9750\n",
            "Epoch 76/100\n",
            "5/5 [==============================] - 2s 355ms/step - loss: 0.1404 - accuracy: 0.9500 - val_loss: 0.2524 - val_accuracy: 0.9000\n",
            "Epoch 77/100\n",
            "5/5 [==============================] - 2s 352ms/step - loss: 0.1412 - accuracy: 0.9625 - val_loss: 0.1243 - val_accuracy: 0.9750\n",
            "Epoch 78/100\n",
            "5/5 [==============================] - 2s 357ms/step - loss: 0.1414 - accuracy: 0.9688 - val_loss: 0.2449 - val_accuracy: 0.9000\n",
            "Epoch 79/100\n",
            "5/5 [==============================] - 2s 351ms/step - loss: 0.1445 - accuracy: 0.9625 - val_loss: 0.1092 - val_accuracy: 0.9750\n",
            "Epoch 80/100\n",
            "5/5 [==============================] - 2s 356ms/step - loss: 0.1342 - accuracy: 0.9688 - val_loss: 0.2263 - val_accuracy: 0.9000\n",
            "Epoch 81/100\n",
            "5/5 [==============================] - 2s 355ms/step - loss: 0.1345 - accuracy: 0.9625 - val_loss: 0.1342 - val_accuracy: 0.9500\n",
            "Epoch 82/100\n",
            "5/5 [==============================] - 2s 357ms/step - loss: 0.1354 - accuracy: 0.9563 - val_loss: 0.1743 - val_accuracy: 0.9500\n",
            "Epoch 83/100\n",
            "5/5 [==============================] - 2s 354ms/step - loss: 0.1277 - accuracy: 0.9625 - val_loss: 0.1319 - val_accuracy: 0.9500\n",
            "Epoch 84/100\n",
            "5/5 [==============================] - 2s 356ms/step - loss: 0.1312 - accuracy: 0.9625 - val_loss: 0.2197 - val_accuracy: 0.9000\n",
            "Epoch 85/100\n",
            "5/5 [==============================] - 2s 367ms/step - loss: 0.1267 - accuracy: 0.9688 - val_loss: 0.1415 - val_accuracy: 0.9500\n",
            "Epoch 86/100\n",
            "5/5 [==============================] - 2s 353ms/step - loss: 0.1364 - accuracy: 0.9625 - val_loss: 0.1875 - val_accuracy: 0.9500\n",
            "Epoch 87/100\n",
            "5/5 [==============================] - 2s 354ms/step - loss: 0.1311 - accuracy: 0.9500 - val_loss: 0.1556 - val_accuracy: 0.9500\n",
            "Epoch 88/100\n",
            "5/5 [==============================] - 2s 354ms/step - loss: 0.1252 - accuracy: 0.9688 - val_loss: 0.1471 - val_accuracy: 0.9500\n",
            "Epoch 89/100\n",
            "5/5 [==============================] - 2s 356ms/step - loss: 0.1249 - accuracy: 0.9688 - val_loss: 0.2095 - val_accuracy: 0.9250\n",
            "Epoch 90/100\n",
            "5/5 [==============================] - 2s 354ms/step - loss: 0.1316 - accuracy: 0.9500 - val_loss: 0.1488 - val_accuracy: 0.9500\n",
            "Epoch 91/100\n",
            "5/5 [==============================] - 2s 352ms/step - loss: 0.1282 - accuracy: 0.9688 - val_loss: 0.1998 - val_accuracy: 0.9250\n",
            "Epoch 92/100\n",
            "5/5 [==============================] - 2s 354ms/step - loss: 0.1332 - accuracy: 0.9500 - val_loss: 0.1466 - val_accuracy: 0.9500\n",
            "Epoch 93/100\n",
            "5/5 [==============================] - 2s 356ms/step - loss: 0.1267 - accuracy: 0.9688 - val_loss: 0.1601 - val_accuracy: 0.9500\n",
            "Epoch 94/100\n",
            "5/5 [==============================] - 2s 354ms/step - loss: 0.1234 - accuracy: 0.9625 - val_loss: 0.1617 - val_accuracy: 0.9500\n",
            "Epoch 95/100\n",
            "5/5 [==============================] - 2s 355ms/step - loss: 0.1300 - accuracy: 0.9625 - val_loss: 0.1491 - val_accuracy: 0.9500\n",
            "Epoch 96/100\n",
            "5/5 [==============================] - 2s 355ms/step - loss: 0.1416 - accuracy: 0.9625 - val_loss: 0.1947 - val_accuracy: 0.9250\n",
            "Epoch 97/100\n",
            "5/5 [==============================] - 2s 354ms/step - loss: 0.1333 - accuracy: 0.9625 - val_loss: 0.0821 - val_accuracy: 0.9750\n",
            "Epoch 98/100\n",
            "5/5 [==============================] - 2s 356ms/step - loss: 0.1274 - accuracy: 0.9563 - val_loss: 0.2244 - val_accuracy: 0.9000\n",
            "Epoch 99/100\n",
            "5/5 [==============================] - 2s 354ms/step - loss: 0.1278 - accuracy: 0.9500 - val_loss: 0.1033 - val_accuracy: 0.9750\n",
            "Epoch 100/100\n",
            "5/5 [==============================] - 2s 355ms/step - loss: 0.1229 - accuracy: 0.9688 - val_loss: 0.1692 - val_accuracy: 0.9500\n"
          ]
        }
      ],
      "source": [
        "trainR50 = modelR50.fit(x=x,\n",
        "          y=y,\n",
        "          batch_size=32,\n",
        "          validation_split= 0.2,\n",
        "          epochs=100,\n",
        "          verbose=1    \n",
        "        )"
      ]
    },
    {
      "cell_type": "code",
      "execution_count": null,
      "metadata": {
        "colab": {
          "base_uri": "https://localhost:8080/",
          "height": 728
        },
        "id": "mV2rxM3ywM0V",
        "outputId": "df33cf33-0e53-4bac-fac6-13078b961efb"
      },
      "outputs": [
        {
          "data": {
            "image/png": "[encoded data removed]",
            "text/plain": [
              "<Figure size 720x360 with 1 Axes>"
            ]
          },
          "metadata": {
            "needs_background": "light"
          },
          "output_type": "display_data"
        },
        {
          "data": {
            "image/png": "[encoded data removed]",
            "text/plain": [
              "<Figure size 720x360 with 1 Axes>"
            ]
          },
          "metadata": {
            "needs_background": "light"
          },
          "output_type": "display_data"
        }
      ],
      "source": [
        "acc_trainR50 = trainR50.history['accuracy']\n",
        "acc_valR50 = trainR50.history['val_accuracy']\n",
        "\n",
        "loss_trainR50 = trainR50.history['loss']\n",
        "loss_valR50 = trainR50.history['val_loss']\n",
        "\n",
        "epochsR50 = range(len(acc_trainR50))\n",
        "plt.figure(figsize=(10,5))\n",
        "\n",
        "plt.subplot(1, 2, 1)\n",
        "plt.plot(epochsR50, acc_trainR50, 'g', label='Training Accuracy')\n",
        "plt.plot(epochsR50, acc_valR50, 'b', label='validation Accuracy')\n",
        "plt.title('Training and Validation Accuracy')\n",
        "plt.xlabel('Epochs')\n",
        "plt.ylabel('Accuracy')\n",
        "plt.legend()\n",
        "plt.show()\n",
        "\n",
        "plt.figure(figsize=(10,5))\n",
        "plt.subplot(1, 2, 2)\n",
        "plt.tight_layout()\n",
        "plt.plot(epochsR50, loss_trainR50, 'r', label='Training loss')\n",
        "plt.plot(epochsR50, loss_valR50, 'm', label='validation loss')\n",
        "plt.title('Training and Validation loss')\n",
        "plt.xlabel('Epochs')\n",
        "plt.ylabel('Loss')\n",
        "plt.legend()\n",
        "plt.show()"
      ]
    },
    {
      "cell_type": "code",
      "execution_count": null,
      "metadata": {
        "colab": {
          "base_uri": "https://localhost:8080/"
        },
        "id": "31xkenW-w2nk",
        "outputId": "141282b9-e9af-40c3-dc27-408cf1d2f37c"
      },
      "outputs": [
        {
          "name": "stdout",
          "output_type": "stream",
          "text": [
            "2/2 [==============================] - 0s 103ms/step - loss: 0.0798 - accuracy: 1.0000\n"
          ]
        },
        {
          "data": {
            "text/plain": [
              "[0.07981215417385101, 1.0]"
            ]
          },
          "execution_count": 72,
          "metadata": {},
          "output_type": "execute_result"
        }
      ],
      "source": [
        "modelR50.evaluate(x_test, y_test)"
      ]
    },
    {
      "cell_type": "code",
      "execution_count": null,
      "metadata": {
        "colab": {
          "base_uri": "https://localhost:8080/"
        },
        "id": "Ug1nHof8xDJt",
        "outputId": "5a448c47-b436-45d2-fa30-0f2dab419653"
      },
      "outputs": [
        {
          "name": "stdout",
          "output_type": "stream",
          "text": [
            "[[False]\n",
            " [False]\n",
            " [False]\n",
            " [ True]\n",
            " [ True]\n",
            " [ True]\n",
            " [False]\n",
            " [ True]\n",
            " [ True]\n",
            " [False]\n",
            " [False]\n",
            " [ True]\n",
            " [ True]\n",
            " [False]\n",
            " [ True]\n",
            " [ True]\n",
            " [False]\n",
            " [ True]\n",
            " [False]\n",
            " [False]\n",
            " [ True]\n",
            " [False]\n",
            " [ True]\n",
            " [False]\n",
            " [False]\n",
            " [False]\n",
            " [False]\n",
            " [False]\n",
            " [ True]\n",
            " [ True]\n",
            " [False]\n",
            " [False]\n",
            " [False]\n",
            " [False]\n",
            " [ True]\n",
            " [ True]\n",
            " [ True]\n",
            " [ True]\n",
            " [ True]\n",
            " [False]]\n"
          ]
        }
      ],
      "source": [
        "predR50 = modelR50.predict(x_test) > 0.5\n",
        "print(pred)"
      ]
    },
    {
      "cell_type": "code",
      "execution_count": null,
      "metadata": {
        "id": "gN4xnzBexF-1"
      },
      "outputs": [],
      "source": [
        "confusion_matR50 = confusion_matrix(predR50, y_test)"
      ]
    },
    {
      "cell_type": "code",
      "execution_count": null,
      "metadata": {
        "colab": {
          "base_uri": "https://localhost:8080/",
          "height": 283
        },
        "id": "bePXCw4SxKKS",
        "outputId": "d37d4521-72b5-4160-dd9f-da4f8085ce44"
      },
      "outputs": [
        {
          "data": {
            "text/plain": [
              "<matplotlib.axes._subplots.AxesSubplot at 0x7fc8e3bc6e90>"
            ]
          },
          "execution_count": 75,
          "metadata": {},
          "output_type": "execute_result"
        },
        {
          "data": {
            "image/png": "[encoded data removed]",
            "text/plain": [
              "<Figure size 432x288 with 2 Axes>"
            ]
          },
          "metadata": {
            "needs_background": "light"
          },
          "output_type": "display_data"
        }
      ],
      "source": [
        "import seaborn as sns\n",
        "confusion_matR50 = confusion_matrix(predR50, y_test)\n",
        "sns.heatmap(confusion_matR50, annot=True)"
      ]
    },
    {
      "cell_type": "code",
      "execution_count": null,
      "metadata": {
        "colab": {
          "base_uri": "https://localhost:8080/"
        },
        "id": "FBW4uGBmxMut",
        "outputId": "f9ee1f53-35ee-4a6e-dec9-afedb5eec277"
      },
      "outputs": [
        {
          "name": "stdout",
          "output_type": "stream",
          "text": [
            "              precision    recall  f1-score   support\n",
            "\n",
            "           0       1.00      1.00      1.00        21\n",
            "           1       1.00      1.00      1.00        19\n",
            "\n",
            "    accuracy                           1.00        40\n",
            "   macro avg       1.00      1.00      1.00        40\n",
            "weighted avg       1.00      1.00      1.00        40\n",
            "\n"
          ]
        }
      ],
      "source": [
        "print(classification_report(y_test, predR50))"
      ]
    },
    {
      "cell_type": "code",
      "execution_count": null,
      "metadata": {
        "id": "hjz3nNY2xPWb"
      },
      "outputs": [],
      "source": []
    }
  ],
  "metadata": {
    "accelerator": "GPU",
    "colab": {
      "collapsed_sections": [],
      "provenance": [],
      "mount_file_id": "1ROwcqbgx589Jf9jlVs5i5Mpj4HE5Khgy",
      "authorship_tag": "ABX9TyP6F1ZD89vcythCt+4gNG5E",
      "include_colab_link": true
    },
    "kernelspec": {
      "display_name": "Python 3.9.6 64-bit",
      "language": "python",
      "name": "python3"
    },
    "language_info": {
      "codemirror_mode": {
        "name": "ipython",
        "version": 3
      },
      "file_extension": ".py",
      "mimetype": "text/x-python",
      "name": "python",
      "nbconvert_exporter": "python",
      "pygments_lexer": "ipython3",
      "version": "3.9.6"
    },
    "vscode": {
      "interpreter": {
        "hash": "31f2aee4e71d21fbe5cf8b01ff0e069b9275f58929596ceb00d14d90e3e16cd6"
      }
    }
  },
  "nbformat": 4,
  "nbformat_minor": 0
}